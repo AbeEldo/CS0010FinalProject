{
 "cells": [
  {
   "cell_type": "markdown",
   "id": "a5732e1c-aa32-4fe6-a59f-34d4de8adc6a",
   "metadata": {},
   "source": [
    "### Final Project Notebook\n",
    "#### Abe Eldo and Luke Tola"
   ]
  },
  {
   "cell_type": "code",
   "execution_count": null,
   "id": "108147bb-6245-4f44-8719-b7e6e3eef79d",
   "metadata": {},
   "outputs": [],
   "source": []
  }
 ],
 "metadata": {
  "kernelspec": {
   "display_name": "Python 3 (ipykernel)",
   "language": "python",
   "name": "python3"
  },
  "language_info": {
   "codemirror_mode": {
    "name": "ipython",
    "version": 3
   },
   "file_extension": ".py",
   "mimetype": "text/x-python",
   "name": "python",
   "nbconvert_exporter": "python",
   "pygments_lexer": "ipython3",
   "version": "3.10.10"
  }
 },
 "nbformat": 4,
 "nbformat_minor": 5
}
