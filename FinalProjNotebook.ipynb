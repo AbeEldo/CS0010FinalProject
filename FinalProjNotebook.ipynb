{
 "cells": [
  {
   "cell_type": "markdown",
   "id": "a5732e1c-aa32-4fe6-a59f-34d4de8adc6a",
   "metadata": {},
   "source": [
    "# CS 0010 - Final Project Notebook\n",
    "\n",
    "## The Dynamic Duo\n",
    "\n",
    "#### Abe Eldo, Luke Tola\n",
    "---\n"
   ]
  },
  {
   "cell_type": "markdown",
   "id": "717c540c-6abd-4928-ae4d-8d0366641dad",
   "metadata": {
    "jp-MarkdownHeadingCollapsed": true,
    "tags": []
   },
   "source": [
    "## Introduction\n",
    "\n",
    "In this project to decide what our metric would be, we had to think about what feature(s) of a neighborhood are most important to us. We thought about a few different metrics ranging from entertainment to livability. Eventually we landed on Public Safety since you can’t go wrong being in a safe neighborhood without having to worry about yourself being out and about. We used 3 data sets total to figure out which neighborhood was the best based on public safety.\n",
    "\n",
    "---"
   ]
  },
  {
   "cell_type": "markdown",
   "id": "98bb3017-d9cf-44c9-a2ae-b033cb615de9",
   "metadata": {
    "jp-MarkdownHeadingCollapsed": true,
    "tags": []
   },
   "source": [
    "## The Metric\n",
    "\n",
    "As said before, our chosen metric is Public Safety. We narrowed down to what we thought public safety was into 3 different categories. The first was a no-brainer crime, so we selected an arrest report data set to analyze. We used the total number of arrests and arrest rate of minors for each neighborhood to evaluate this metric. The second category we thought of was healthcare/Emergency services around. For this we selected an EMS facilities dataset that contained all the EMS in the neighborhoods around Pittsburgh. We used the number and size of EMS facilities for this sub-metric. The final category chosen was fire incidents around the Pittsburgh area. For this we used a Fire Incident Reports dataset to find the number and severity of fire incidents across neighborhoods. To decide which neighborhood would be ranked as the most safe, each of us did a point ranking system for each dataset based on certain qualities. For example, for the EMS facilities 10 points were given for each EMS facility in a neighborhood and an incremented score was given for the size of each of those facilities. \n",
    "\n",
    "---"
   ]
  },
  {
   "cell_type": "markdown",
   "id": "5de65842-a3d9-4289-8b27-4a451e7f9c78",
   "metadata": {},
   "source": [
    "## The Best Neighborhood"
   ]
  },
  {
   "cell_type": "markdown",
   "id": "53655c1e-c6b1-4284-940b-635b4039d2a8",
   "metadata": {},
   "source": [
    "### 1. Crime Rate\n",
    "\n",
    "#### Arrest Counts\n",
    "\n",
    "To determine which neighborhood has the lowest crime rate, we first found the number of arrests per neighborhood. Safer neighborhoods would have lower arrest counts, so we plotted a histogram showing arrest counts by neighborhood. We found that the Strip District, Greenfield, Highland Park, and North Shore had the lowest arrest counts. "
   ]
  },
  {
   "cell_type": "markdown",
   "id": "78f0d296-1f64-4823-bcd3-0ef90988e315",
   "metadata": {},
   "source": [
    "![Arrest Counts](arrestcounts.png)"
   ]
  },
  {
   "cell_type": "markdown",
   "id": "75d358bf-def9-456f-a83d-6adb5001b5e8",
   "metadata": {},
   "source": [
    "#### Crime Rate Heat Map\n",
    "We then created a heat map of areas according to arrest counts to better visualize where more crimes were occuring."
   ]
  },
  {
   "cell_type": "code",
   "execution_count": 4,
   "id": "bf4e32d4-6fa8-46a4-aa79-35e2312d2557",
   "metadata": {
    "tags": []
   },
   "outputs": [
    {
     "data": {
      "text/html": [
       "\n",
       "        <iframe\n",
       "            width=\"800\"\n",
       "            height=\"400\"\n",
       "            src=\"crimemap.html\"\n",
       "            frameborder=\"0\"\n",
       "            allowfullscreen\n",
       "            \n",
       "        ></iframe>\n",
       "        "
      ],
      "text/plain": [
       "<IPython.lib.display.IFrame at 0x26f9afa6560>"
      ]
     },
     "execution_count": 4,
     "metadata": {},
     "output_type": "execute_result"
    }
   ],
   "source": [
    "from IPython.display import IFrame\n",
    "IFrame(src=\"crimemap.html\", width=800, height=400)"
   ]
  },
  {
   "cell_type": "markdown",
   "id": "1b718d24-9818-43aa-a54c-2a0673562e58",
   "metadata": {},
   "source": [
    "#### Minor Arrest Rate\n",
    "To further evaluate crime rate in relation to safety, we evaluated the percent of arrests that involved minors. For individuals that would like to start a family in pittsburgh, child safety would be extremely important. If certain neighborhoods have high arrest rates of minors, parents may be conerned about their own childs safety since minors in these neighborhoods may be more likely to commit crimes. After evaluating minor arrest rates, we found that the Strip District, North Shore and South Side Flats have the lowest rates of arrested minors."
   ]
  },
  {
   "cell_type": "markdown",
   "id": "8519346e-a752-41f7-b86a-b5a411679cd6",
   "metadata": {},
   "source": [
    "![Minor Arrests](minorrates.png)"
   ]
  },
  {
   "cell_type": "markdown",
   "id": "d6de303b-9c1c-4e0e-9f54-01bbac96daf4",
   "metadata": {},
   "source": [
    "#### Crime Points\n",
    "\n",
    "In order to score each neighborhood in relation to crime rate, we developed a point system to evaluate each neighborhood based on their total arrests and arrest rates of minors. Points for total arrests were calculated by dividing the total number of arrests for each neighborhood by 100, and subtracting from the highest arrest count. Points for minor arrest rate were determined by subtracting each neighborhood's percent minors arrested from the percent minors arrested. Points for both sub-metrics were added to fine the total number of points for each neighborhood. The Strip District, North Shore, and Greenfield scored the most points."
   ]
  },
  {
   "cell_type": "markdown",
   "id": "87d57b41-abed-4193-9d0a-20a8a1f30362",
   "metadata": {},
   "source": [
    "![Crime Points](crimepts.png)"
   ]
  },
  {
   "cell_type": "markdown",
   "id": "10184f26-0984-4767-97f5-739ffade65c5",
   "metadata": {},
   "source": [
    "### 2. EMS Facilities\n",
    "\n",
    "#### Number of Facilities\n",
    "\n",
    "An important aspect of public safety is access to emergency medical services since quick medical care is essential for individuals experiencing medical emergencies. To determine which neighborhoods are the best in relation to EMS, we first evaluated which neighborhoods had the most EMS facilities. We found that Greenfield, The Central Business District, and North Shore had the most EMS facilities"
   ]
  },
  {
   "cell_type": "markdown",
   "id": "33a94c18-10cc-4925-a3de-c6c973400817",
   "metadata": {},
   "source": [
    "![EMS Counts](emscounts.png)"
   ]
  },
  {
   "cell_type": "markdown",
   "id": "e8a206cb-6380-4b24-86ad-fc622c1ef76d",
   "metadata": {},
   "source": [
    "#### Facility Size\n",
    "\n",
    "Next, we evaluated the size of the facilities in each district. Since larger facilities will be able to handle a larger intake of patients, facility size is extremely important to public safety especially in times of disaster. We looked at both the size of individual facilities and the total size of facilities combined in acres for each neighborhood. We found that Shadyside had the largest facilities."
   ]
  },
  {
   "cell_type": "markdown",
   "id": "f598f2d0-5119-4c6d-985c-b8dd376f4921",
   "metadata": {},
   "source": [
    "![EMS Size](emssize.png)"
   ]
  },
  {
   "cell_type": "markdown",
   "id": "1004aab3-2feb-47a4-bb51-a270f61f6dce",
   "metadata": {},
   "source": [
    "![EMS Size individual](emssizesep.png)"
   ]
  },
  {
   "cell_type": "markdown",
   "id": "8108a451-6282-4168-b121-47026bb329dc",
   "metadata": {},
   "source": [
    "#### EMS Points\n",
    "\n",
    "To score naighborhoods based on EMS facilities, we developed another point system. For each facility 10 points were given for each EMS facility in a neighborhood. Additionally, 5 to 35 points were given depending on the total size of all facilities in the neighborhood. Greenfield scored the most amount of EMS points."
   ]
  },
  {
   "cell_type": "markdown",
   "id": "f7fc74a8-3e1c-4148-bda6-2f87d1fc0895",
   "metadata": {},
   "source": [
    "![EMS Points](emspts.png)"
   ]
  },
  {
   "cell_type": "markdown",
   "id": "5dca56d1-ad0c-43a2-b7ba-a00e336f0d85",
   "metadata": {},
   "source": [
    "### 3. Fire Incidents\n",
    "\n",
    "#### Number of Incidents\n",
    "\n",
    "Fires are a direct threat to public safety and property. In order to evaluate which neighborhoods are the safest in terms of fire incidents, we first determined the total number of fire incindents for each neighborhood. We found that The Strip District, Highland Park, and North Shore had the least amount of fires."
   ]
  },
  {
   "cell_type": "markdown",
   "id": "2c8f11ff-5bb6-4782-a9e6-5c8606633a36",
   "metadata": {},
   "source": [
    "![Fire Counts](firecounts.png)"
   ]
  },
  {
   "cell_type": "markdown",
   "id": "70055d74-e14a-46b7-a010-7cc2af9cf2d9",
   "metadata": {},
   "source": [
    "#### Crime Rate Heat Map\n",
    "We then created a heat map of areas according to arrest counts to better visualize where more crimes were occuring."
   ]
  },
  {
   "cell_type": "code",
   "execution_count": 6,
   "id": "4656f6d5-2406-4559-81b5-596fc0227507",
   "metadata": {},
   "outputs": [
    {
     "data": {
      "text/html": [
       "\n",
       "        <iframe\n",
       "            width=\"800\"\n",
       "            height=\"400\"\n",
       "            src=\"firemap.html\"\n",
       "            frameborder=\"0\"\n",
       "            allowfullscreen\n",
       "            \n",
       "        ></iframe>\n",
       "        "
      ],
      "text/plain": [
       "<IPython.lib.display.IFrame at 0x26f9afa6170>"
      ]
     },
     "execution_count": 6,
     "metadata": {},
     "output_type": "execute_result"
    }
   ],
   "source": [
    "from IPython.display import IFrame\n",
    "IFrame(src=\"firemap.html\", width=800, height=400)"
   ]
  },
  {
   "cell_type": "markdown",
   "id": "230a41ed-208e-42f3-bbf7-fbb5fb84a2f8",
   "metadata": {},
   "source": [
    "#### Incident Hazard Level\n",
    "\n",
    "Although some neighborhoods have more fires than others, the type of fire is important in determining the safety of a neighborhood. If a neighborhood has many fires, but the majority are low-risk, contained fires, that neighborhood is still most likley safe. To assess the hazard level of fires in each neighborhood, we separated types of fires into three hazard levels: low, moderate, and high. We then calculated the percentage of fires in each hazard level for each neighborhood. We found that North Shore had the most low level fires."
   ]
  },
  {
   "cell_type": "markdown",
   "id": "6b3b801f-b5f1-4037-918f-c388be14836a",
   "metadata": {},
   "source": [
    "![Hazard Levels](hazardlevels.png)"
   ]
  },
  {
   "cell_type": "markdown",
   "id": "7d80fc32-29dc-4b7b-a70b-e0ff96554458",
   "metadata": {},
   "source": [
    "#### Fire Points\n",
    "\n",
    "The point system for fire incidents combined both number of fires and types of hazards. For the number of fire incidents, points were calculated by dividing the total number of fires by 10 and subtracting from the highest fire incident count. To calculate points for hazard levels, weights were assigned to each percentage such that low level fires gave the most points, moderate fires gave slightly lower points, and high level fires subtracted points. Points for each category were summed to give the total number of points for fire ssafety for each neighborhood."
   ]
  },
  {
   "cell_type": "markdown",
   "id": "082ed363-c61c-44f5-b933-31f787814481",
   "metadata": {},
   "source": [
    "![Fire Points](firepts.png)"
   ]
  },
  {
   "cell_type": "markdown",
   "id": "d57e3061-c288-461f-b3dd-8c1401f4c410",
   "metadata": {},
   "source": [
    "### 4. Total Points\n",
    "\n",
    "To find the best neighborhood in terms of safety, we added all points for all neighborhoods for each submetric. After adding all the points, we found that North Shore won safest neighborhood by 1 point!"
   ]
  },
  {
   "cell_type": "markdown",
   "id": "e631a36c-e2d6-4c5a-8f2a-73900a8e6fe3",
   "metadata": {},
   "source": [
    "![Total Points](totpts.png)"
   ]
  },
  {
   "cell_type": "markdown",
   "id": "474cfb2c-3d06-459f-875b-c0b27953fe56",
   "metadata": {},
   "source": [
    "---\n",
    "\n",
    "## Conclusion\n",
    "\n",
    "### Luke\n",
    "\n",
    "The best town based off of the 3 datasets was different from what we expected. To be fair we really didn’t know what to expect, but North Shore wasn’t our first choice of what we were predicting to be the best. We assumed that Shadyside or Squirrel hill would be higher up, but they were more average.\n",
    "\n",
    "### Abe\n"
   ]
  }
 ],
 "metadata": {
  "kernelspec": {
   "display_name": "Python 3 (ipykernel)",
   "language": "python",
   "name": "python3"
  },
  "language_info": {
   "codemirror_mode": {
    "name": "ipython",
    "version": 3
   },
   "file_extension": ".py",
   "mimetype": "text/x-python",
   "name": "python",
   "nbconvert_exporter": "python",
   "pygments_lexer": "ipython3",
   "version": "3.10.10"
  }
 },
 "nbformat": 4,
 "nbformat_minor": 5
}
